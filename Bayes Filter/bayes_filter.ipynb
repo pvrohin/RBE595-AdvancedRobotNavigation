{
 "cells": [
  {
   "cell_type": "code",
   "execution_count": 23,
   "metadata": {},
   "outputs": [],
   "source": [
    "#Initial state of the door is unknown\n",
    "bel_x0_open = 0.5\n",
    "bel_x0_closed = 0.5"
   ]
  },
  {
   "cell_type": "code",
   "execution_count": 24,
   "metadata": {},
   "outputs": [],
   "source": [
    "#Intitialize the measurement model\n",
    "p_zt_open_xt_open = 0.6\n",
    "p_zt_open_xt_closed = 0.2\n",
    "p_zt_closed_xt_open = 0.4\n",
    "p_zt_closed_xt_closed = 0.8"
   ]
  },
  {
   "cell_type": "code",
   "execution_count": 25,
   "metadata": {},
   "outputs": [],
   "source": [
    "#Initialize the action model\n",
    "p_xt_open_ut_push_xt_1_open = 1\n",
    "p_xt_closed_ut_push_xt_1_open = 0\n",
    "p_xt_open_ut_push_xt_1_closed = 0.8\n",
    "p_xt_closed_ut_push_xt_1_closed = 0.2\n",
    "\n",
    "p_xt_open_ut_do_nothing_xt_1_open = 1\n",
    "p_xt_closed_ut_do_nothing_xt_1_open = 0\n",
    "p_xt_open_ut_do_nothing_xt_1_closed = 0\n",
    "p_xt_closed_ut_do_nothing_xt_1_closed = 1"
   ]
  },
  {
   "cell_type": "code",
   "execution_count": 26,
   "metadata": {},
   "outputs": [],
   "source": [
    "def prediction(action):\n",
    "    global bel_x0_open,bel_x0_closed\n",
    "    if(action==\"do_nothing\"):\n",
    "        bel_bar_x1_open = (p_xt_open_ut_do_nothing_xt_1_open*bel_x0_open) + (p_xt_open_ut_do_nothing_xt_1_closed*bel_x0_closed)\n",
    "\n",
    "        bel_bar_x1_closed = (p_xt_closed_ut_do_nothing_xt_1_open*bel_x0_open) + (p_xt_closed_ut_do_nothing_xt_1_closed*bel_x0_closed)\n",
    "    if(action==\"open\"):\n",
    "        bel_bar_x1_open = (p_xt_open_ut_push_xt_1_open*bel_x0_open) + (p_xt_open_ut_push_xt_1_closed*bel_x0_closed)\n",
    "\n",
    "        bel_bar_x1_closed = (p_xt_closed_ut_push_xt_1_open*bel_x0_open) + (p_xt_closed_ut_push_xt_1_closed*bel_x0_closed)\n",
    "\n",
    "    return bel_bar_x1_open,bel_bar_x1_closed"
   ]
  },
  {
   "cell_type": "code",
   "execution_count": 27,
   "metadata": {},
   "outputs": [],
   "source": [
    "def correction(bel_bar_x1_open,bel_bar_x1_closed,measurement):\n",
    "    global bel_x0_open,bel_x0_closed\n",
    "    if(measurement==\"open\"):\n",
    "        bel_x1_open = p_zt_open_xt_open*bel_bar_x1_open\n",
    "\n",
    "        bel_x1_closed = p_zt_open_xt_closed*bel_bar_x1_closed\n",
    "\n",
    "    if(measurement==\"closed\"):\n",
    "        bel_x1_open = p_zt_closed_xt_open*bel_bar_x1_open\n",
    "\n",
    "        bel_x1_closed = p_zt_closed_xt_closed*bel_bar_x1_closed\n",
    "\n",
    "    norm = 1/(bel_x1_open+bel_x1_closed)\n",
    "\n",
    "    bel_x1_open = norm*bel_x1_open\n",
    "\n",
    "    bel_x1_closed = norm*bel_x1_closed\n",
    "\n",
    "    bel_x0_open = bel_x1_open\n",
    "    bel_x0_closed = bel_x1_closed\n",
    "        \n",
    "    return bel_x0_open,bel_x0_closed"
   ]
  },
  {
   "cell_type": "code",
   "execution_count": 28,
   "metadata": {},
   "outputs": [],
   "source": [
    "def bayes_filter(action,measurement):\n",
    "    global bel_x0_open,bel_x0_closed\n",
    "    bel_bar_x1_open,bel_bar_x1_closed = prediction(action)\n",
    "    bel_x0_open,bel_x0_closed = correction(bel_bar_x1_open,bel_bar_x1_closed,measurement)\n",
    "    print(\"Probability the door is open is \",bel_x0_open)\n",
    "    print(\"Probability the door is closed is \",bel_x0_closed)"
   ]
  },
  {
   "cell_type": "code",
   "execution_count": 29,
   "metadata": {},
   "outputs": [
    {
     "name": "stdout",
     "output_type": "stream",
     "text": [
      "Action do_nothing\n",
      "Measurement closed\n",
      "Probability the door is open is  0.3333333333333333\n",
      "Probability the door is closed is  0.6666666666666666\n",
      "Iteration 1 done\n",
      "\n",
      "Action open\n",
      "Measurement closed\n",
      "Probability the door is open is  0.7647058823529411\n",
      "Probability the door is closed is  0.23529411764705882\n",
      "Iteration 2 done\n",
      "\n",
      "Action do_nothing\n",
      "Measurement closed\n",
      "Probability the door is open is  0.6190476190476191\n",
      "Probability the door is closed is  0.38095238095238093\n",
      "Iteration 3 done\n",
      "\n",
      "Action open\n",
      "Measurement open\n",
      "Probability the door is open is  0.9732441471571905\n",
      "Probability the door is closed is  0.026755852842809368\n",
      "Iteration 4 done\n",
      "\n",
      "Action do_nothing\n",
      "Measurement open\n",
      "Probability the door is open is  0.9909194097616345\n",
      "Probability the door is closed is  0.009080590238365497\n",
      "Iteration 5 done\n",
      "\n"
     ]
    }
   ],
   "source": [
    "def main():\n",
    "    actions = [\"do_nothing\",\"open\",\"do_nothing\",\"open\",\"do_nothing\"]\n",
    "    measurement = [\"closed\",\"closed\",\"closed\",\"open\",\"open\"]\n",
    "\n",
    "    # actions = [\"open\",\"open\",\"open\",\"open\",\"open\"]\n",
    "    # measurement = [\"closed\",\"closed\",\"closed\",\"closed\",\"closed\"]\n",
    "\n",
    "    for i in range(0,5):\n",
    "         print(\"Action\",actions[i])\n",
    "         print(\"Measurement\",measurement[i])\n",
    "         bayes_filter(actions[i],measurement[i])\n",
    "         print(\"Iteration\",i+1,\"done\\n\")\n",
    "   \n",
    "if __name__ == \"__main__\":\n",
    "    main()"
   ]
  }
 ],
 "metadata": {
  "kernelspec": {
   "display_name": "Python 3",
   "language": "python",
   "name": "python3"
  },
  "language_info": {
   "codemirror_mode": {
    "name": "ipython",
    "version": 3
   },
   "file_extension": ".py",
   "mimetype": "text/x-python",
   "name": "python",
   "nbconvert_exporter": "python",
   "pygments_lexer": "ipython3",
   "version": "3.8.13"
  }
 },
 "nbformat": 4,
 "nbformat_minor": 2
}
