{
 "cells": [
  {
   "cell_type": "markdown",
   "metadata": {},
   "source": [
    "## Task 1\n",
    "\n",
    "Analyzing the sensor model given in the assignment, it tells us that the robot's sensor is better at detecting a closed door since the error probability is quite small (0.2). In the case when the door is open, it has a probability of 0.4 which is quite high.\n",
    "\n",
    "### Propagation Model\n",
    "\n",
    "-  p(x<sub>t</sub> = 1 | u<sub>t</sub> = \"push\", x<sub>t-1</sub> = 1) = 1 \n",
    "-  p(x<sub>t</sub> = 0 | u<sub>t</sub> = \"push\", x<sub>t-1</sub> = 1) = 0 \n",
    "-  p(x<sub>t</sub> = 1 | u<sub>t</sub> = \"push\", x<sub>t-1</sub> = 0) = 0.8 \n",
    "-  p(x<sub>t</sub> = 0 | u<sub>t</sub> = \"push\", x<sub>t-1</sub> = 0) = 0.2 \n",
    "\n",
    "-  p(x<sub>t</sub> = 1 | u<sub>t</sub> = \"do nothing\", x<sub>t-1</sub> = 1) = 1 \n",
    "-  p(x<sub>t</sub> = 0 | u<sub>t</sub> = \"do nothing\", x<sub>t-1</sub> = 1) = 0 \n",
    "-  p(x<sub>t</sub> = 1 | u<sub>t</sub> = \"do nothing\", x<sub>t-1</sub> = 0) = 0 \n",
    "-  p(x<sub>t</sub> = 0 | u<sub>t</sub> = \"do nothing\", x<sub>t-1</sub> = 0) = 1 \n",
    "\n",
    "The system dynamics are influenced by the control input, and are deterministic for each action:\n",
    "\n",
    "According to this model above, it tells us that if the door is open previously, then it will remain open, however, if it is closed then there is a 0.8 probability that it will be open at the next time step. If the robot chooses to not manipulate its surroundings, i.e \"do nothing\", then the state of the world does not change in this case."
   ]
  },
  {
   "cell_type": "markdown",
   "metadata": {},
   "source": [
    "## Task 2"
   ]
  },
  {
   "cell_type": "markdown",
   "metadata": {},
   "source": [
    "Initialize the measurement model"
   ]
  },
  {
   "cell_type": "code",
   "execution_count": 1,
   "metadata": {},
   "outputs": [],
   "source": [
    "#Intitialize the measurement model\n",
    "p_zt_open_xt_open = 0.6\n",
    "p_zt_open_xt_closed = 0.2\n",
    "p_zt_closed_xt_open = 0.4\n",
    "p_zt_closed_xt_closed = 0.8"
   ]
  },
  {
   "cell_type": "markdown",
   "metadata": {},
   "source": [
    "Initialize the action model"
   ]
  },
  {
   "cell_type": "code",
   "execution_count": 2,
   "metadata": {},
   "outputs": [],
   "source": [
    "#Initialize the action model\n",
    "p_xt_open_ut_push_xt_1_open = 1\n",
    "p_xt_closed_ut_push_xt_1_open = 0\n",
    "p_xt_open_ut_push_xt_1_closed = 0.8\n",
    "p_xt_closed_ut_push_xt_1_closed = 0.2\n",
    "\n",
    "p_xt_open_ut_do_nothing_xt_1_open = 1\n",
    "p_xt_closed_ut_do_nothing_xt_1_open = 0\n",
    "p_xt_open_ut_do_nothing_xt_1_closed = 0\n",
    "p_xt_closed_ut_do_nothing_xt_1_closed = 1"
   ]
  },
  {
   "cell_type": "markdown",
   "metadata": {},
   "source": [
    "A prediction function which takes as input the current action and calculates step 3 of the Bayes Filter algorithm"
   ]
  },
  {
   "cell_type": "code",
   "execution_count": 3,
   "metadata": {},
   "outputs": [],
   "source": [
    "def prediction(action,bel_x0_open,bel_x0_closed):\n",
    "    if(action==\"do_nothing\"):\n",
    "        bel_bar_x1_open = (p_xt_open_ut_do_nothing_xt_1_open*bel_x0_open) + (p_xt_open_ut_do_nothing_xt_1_closed*bel_x0_closed)\n",
    "\n",
    "        bel_bar_x1_closed = (p_xt_closed_ut_do_nothing_xt_1_open*bel_x0_open) + (p_xt_closed_ut_do_nothing_xt_1_closed*bel_x0_closed)\n",
    "    if(action==\"open\"):\n",
    "        bel_bar_x1_open = (p_xt_open_ut_push_xt_1_open*bel_x0_open) + (p_xt_open_ut_push_xt_1_closed*bel_x0_closed)\n",
    "\n",
    "        bel_bar_x1_closed = (p_xt_closed_ut_push_xt_1_open*bel_x0_open) + (p_xt_closed_ut_push_xt_1_closed*bel_x0_closed)\n",
    "\n",
    "    return bel_bar_x1_open,bel_bar_x1_closed"
   ]
  },
  {
   "cell_type": "markdown",
   "metadata": {},
   "source": [
    "A correction function that takes as input the output of the prediction function and the current measurement and updates the belief of the robot about the door being open and closed"
   ]
  },
  {
   "cell_type": "code",
   "execution_count": 4,
   "metadata": {},
   "outputs": [],
   "source": [
    "def correction(bel_bar_x1_open,bel_bar_x1_closed,measurement):\n",
    "    if(measurement==\"open\"):\n",
    "        bel_x1_open = p_zt_open_xt_open*bel_bar_x1_open\n",
    "\n",
    "        bel_x1_closed = p_zt_open_xt_closed*bel_bar_x1_closed\n",
    "\n",
    "    if(measurement==\"closed\"):\n",
    "        bel_x1_open = p_zt_closed_xt_open*bel_bar_x1_open\n",
    "\n",
    "        bel_x1_closed = p_zt_closed_xt_closed*bel_bar_x1_closed\n",
    "\n",
    "    norm = 1/(bel_x1_open+bel_x1_closed)\n",
    "\n",
    "    bel_x1_open = norm*bel_x1_open\n",
    "\n",
    "    bel_x1_closed = norm*bel_x1_closed\n",
    "\n",
    "    return bel_x1_open,bel_x1_closed"
   ]
  },
  {
   "cell_type": "markdown",
   "metadata": {},
   "source": [
    "The Bayes Filter Function takes as input the action, measurement and the initial beliefs and calls the prediction and correction functions to calculate the updated belief that the door is open as well as closed."
   ]
  },
  {
   "cell_type": "code",
   "execution_count": 5,
   "metadata": {},
   "outputs": [],
   "source": [
    "def bayes_filter(action,measurement,bel_x0_open,bel_x0_closed):\n",
    "    bel_bar_x1_open,bel_bar_x1_closed = prediction(action,bel_x0_open,bel_x0_closed)\n",
    "    bel_x0_open,bel_x0_closed = correction(bel_bar_x1_open,bel_bar_x1_closed,measurement)\n",
    "    return bel_x0_open,bel_x0_closed"
   ]
  },
  {
   "cell_type": "markdown",
   "metadata": {},
   "source": [
    "Now let's write a main function to test our implementation of the Bayes Filter"
   ]
  },
  {
   "cell_type": "code",
   "execution_count": 6,
   "metadata": {},
   "outputs": [
    {
     "name": "stdout",
     "output_type": "stream",
     "text": [
      "Action do_nothing\n",
      "Measurement closed\n",
      "Probability the door is open is  0.3333333333333333\n",
      "Probability the door is closed is  0.6666666666666666\n",
      "Iteration 1 done\n",
      "\n",
      "Action open\n",
      "Measurement closed\n",
      "Probability the door is open is  0.7647058823529411\n",
      "Probability the door is closed is  0.23529411764705882\n",
      "Iteration 2 done\n",
      "\n",
      "Action do_nothing\n",
      "Measurement closed\n",
      "Probability the door is open is  0.6190476190476191\n",
      "Probability the door is closed is  0.38095238095238093\n",
      "Iteration 3 done\n",
      "\n",
      "Action open\n",
      "Measurement open\n",
      "Probability the door is open is  0.9732441471571905\n",
      "Probability the door is closed is  0.026755852842809368\n",
      "Iteration 4 done\n",
      "\n",
      "Action do_nothing\n",
      "Measurement open\n",
      "Probability the door is open is  0.9909194097616345\n",
      "Probability the door is closed is  0.009080590238365497\n",
      "Iteration 5 done\n",
      "\n"
     ]
    }
   ],
   "source": [
    "def main():\n",
    "    #Initial state of the door is unknown\n",
    "    bel_x0_open = 0.5\n",
    "    bel_x0_closed = 0.5\n",
    "\n",
    "    #Set of sample actions and measurements\n",
    "    actions = [\"do_nothing\",\"open\",\"do_nothing\",\"open\",\"do_nothing\"]\n",
    "    measurement = [\"closed\",\"closed\",\"closed\",\"open\",\"open\"]\n",
    "\n",
    "    #Run the bayes filter for 5 iterations\n",
    "    for i in range(0,5):\n",
    "         print(\"Action\",actions[i])\n",
    "         print(\"Measurement\",measurement[i])\n",
    "         bel_x0_open,bel_x0_closed = bayes_filter(actions[i],measurement[i],bel_x0_open,bel_x0_closed)\n",
    "         print(\"Probability the door is open is \",bel_x0_open)\n",
    "         print(\"Probability the door is closed is \",bel_x0_closed)\n",
    "         print(\"Iteration\",i+1,\"done\\n\")\n",
    "   \n",
    "if __name__ == \"__main__\":\n",
    "    main()"
   ]
  },
  {
   "cell_type": "markdown",
   "metadata": {},
   "source": [
    "## Question 1"
   ]
  },
  {
   "cell_type": "code",
   "execution_count": 7,
   "metadata": {},
   "outputs": [
    {
     "name": "stdout",
     "output_type": "stream",
     "text": [
      "Action do_nothing\n",
      "Measurement open\n",
      "Probability the door is open is  0.75\n",
      "Probability the door is closed is  0.25\n",
      "Iteration 1 done\n",
      "\n",
      "Action do_nothing\n",
      "Measurement open\n",
      "Probability the door is open is  0.9000000000000001\n",
      "Probability the door is closed is  0.10000000000000003\n",
      "Iteration 2 done\n",
      "\n",
      "Action do_nothing\n",
      "Measurement open\n",
      "Probability the door is open is  0.9642857142857143\n",
      "Probability the door is closed is  0.035714285714285726\n",
      "Iteration 3 done\n",
      "\n",
      "Action do_nothing\n",
      "Measurement open\n",
      "Probability the door is open is  0.9878048780487805\n",
      "Probability the door is closed is  0.012195121951219518\n",
      "Iteration 4 done\n",
      "\n",
      "Action do_nothing\n",
      "Measurement open\n",
      "Probability the door is open is  0.9959016393442622\n",
      "Probability the door is closed is  0.004098360655737707\n",
      "Iteration 5 done\n",
      "\n",
      "Action do_nothing\n",
      "Measurement open\n",
      "Probability the door is open is  0.9986301369863013\n",
      "Probability the door is closed is  0.001369863013698631\n",
      "Iteration 6 done\n",
      "\n",
      "Action do_nothing\n",
      "Measurement open\n",
      "Probability the door is open is  0.999542961608775\n",
      "Probability the door is closed is  0.00045703839122486316\n",
      "Iteration 7 done\n",
      "\n",
      "Action do_nothing\n",
      "Measurement open\n",
      "Probability the door is open is  0.999847607436757\n",
      "Probability the door is closed is  0.00015239256324291387\n",
      "Iteration 8 done\n",
      "\n",
      "Action do_nothing\n",
      "Measurement open\n",
      "Probability the door is open is  0.9999491973176183\n",
      "Probability the door is closed is  5.08026823816298e-05\n",
      "Iteration 9 done\n",
      "\n",
      "Completed in 9 iterations\n"
     ]
    }
   ],
   "source": [
    "def main():\n",
    "    action = \"do_nothing\"\n",
    "    measurement = \"open\"\n",
    "    iteration = 0\n",
    "\n",
    "    bel_x0_open = 0.5\n",
    "    bel_x0_closed = 0.5\n",
    "\n",
    "    while bel_x0_open <= 0.9999:\n",
    "         print(\"Action\",action)\n",
    "         print(\"Measurement\",measurement)\n",
    "         bel_x0_open,bel_x0_closed = bayes_filter(action,measurement,bel_x0_open,bel_x0_closed)\n",
    "         print(\"Probability the door is open is \",bel_x0_open)\n",
    "         print(\"Probability the door is closed is \",bel_x0_closed)\n",
    "         print(\"Iteration\",iteration+1,\"done\\n\")\n",
    "         iteration = iteration+1\n",
    "    \n",
    "    print(\"Completed in\",iteration,\"iterations\")\n",
    "   \n",
    "if __name__ == \"__main__\":\n",
    "    main()"
   ]
  },
  {
   "cell_type": "markdown",
   "metadata": {},
   "source": [
    "**Hence, according to our code output, it takes 9 iterations before the robot is at least 99.99% certain the door is open.**"
   ]
  },
  {
   "cell_type": "markdown",
   "metadata": {},
   "source": [
    "## Question 2"
   ]
  },
  {
   "cell_type": "code",
   "execution_count": 8,
   "metadata": {},
   "outputs": [
    {
     "name": "stdout",
     "output_type": "stream",
     "text": [
      "Action open\n",
      "Measurement open\n",
      "Probability the door is open is  0.9642857142857143\n",
      "Probability the door is closed is  0.03571428571428572\n",
      "Iteration 1 done\n",
      "\n",
      "Action open\n",
      "Measurement open\n",
      "Probability the door is open is  0.9976076555023923\n",
      "Probability the door is closed is  0.002392344497607656\n",
      "Iteration 2 done\n",
      "\n",
      "Action open\n",
      "Measurement open\n",
      "Probability the door is open is  0.9998404594767072\n",
      "Probability the door is closed is  0.00015954052329291647\n",
      "Iteration 3 done\n",
      "\n",
      "Action open\n",
      "Measurement open\n",
      "Probability the door is open is  0.9999893637388585\n",
      "Probability the door is closed is  1.063626114148355e-05\n",
      "Iteration 4 done\n",
      "\n",
      "Completed in 4 iterations\n"
     ]
    }
   ],
   "source": [
    "def main():\n",
    "    action = \"open\"\n",
    "    measurement = \"open\"\n",
    "    iteration = 0\n",
    "\n",
    "    bel_x0_open = 0.5\n",
    "    bel_x0_closed = 0.5\n",
    "\n",
    "    while bel_x0_open <= 0.9999:\n",
    "         print(\"Action\",action)\n",
    "         print(\"Measurement\",measurement)\n",
    "         bel_x0_open,bel_x0_closed = bayes_filter(action,measurement,bel_x0_open,bel_x0_closed)\n",
    "         print(\"Probability the door is open is \",bel_x0_open)\n",
    "         print(\"Probability the door is closed is \",bel_x0_closed)\n",
    "         print(\"Iteration\",iteration+1,\"done\\n\")\n",
    "         iteration = iteration+1\n",
    "\n",
    "    print(\"Completed in\",iteration,\"iterations\")\n",
    "   \n",
    "if __name__ == \"__main__\":\n",
    "    main()"
   ]
  },
  {
   "cell_type": "markdown",
   "metadata": {},
   "source": [
    "**Hence, according to our code output, it takes 4 iterations before the robot is at least 99.99% certain the door is open.**"
   ]
  },
  {
   "cell_type": "markdown",
   "metadata": {},
   "source": [
    "## Question 3"
   ]
  },
  {
   "cell_type": "code",
   "execution_count": 9,
   "metadata": {},
   "outputs": [
    {
     "name": "stdout",
     "output_type": "stream",
     "text": [
      "Action open\n",
      "Measurement closed\n",
      "Probability the door is open is  0.8181818181818182\n",
      "Probability the door is closed is  0.18181818181818182\n",
      "Iteration 1 done\n",
      "\n",
      "Action open\n",
      "Measurement closed\n",
      "Probability the door is open is  0.9298245614035088\n",
      "Probability the door is closed is  0.07017543859649124\n",
      "Iteration 2 done\n",
      "\n",
      "Action open\n",
      "Measurement closed\n",
      "Probability the door is open is  0.972318339100346\n",
      "Probability the door is closed is  0.027681660899653984\n",
      "Iteration 3 done\n",
      "\n",
      "Action open\n",
      "Measurement closed\n",
      "Probability the door is open is  0.9889883000688231\n",
      "Probability the door is closed is  0.011011699931176877\n",
      "Iteration 4 done\n",
      "\n",
      "Action open\n",
      "Measurement closed\n",
      "Probability the door is open is  0.9956049993132812\n",
      "Probability the door is closed is  0.004395000686718858\n",
      "Iteration 5 done\n",
      "\n",
      "Action open\n",
      "Measurement closed\n",
      "Probability the door is open is  0.9982435436506848\n",
      "Probability the door is closed is  0.0017564563493152566\n",
      "Iteration 6 done\n",
      "\n",
      "Action open\n",
      "Measurement closed\n",
      "Probability the door is open is  0.9992976641847143\n",
      "Probability the door is closed is  0.0007023358152856807\n",
      "Iteration 7 done\n",
      "\n",
      "Action open\n",
      "Measurement closed\n",
      "Probability the door is open is  0.9997191051303912\n",
      "Probability the door is closed is  0.00028089486960882105\n",
      "Iteration 8 done\n",
      "\n",
      "Action open\n",
      "Measurement closed\n",
      "Probability the door is open is  0.9998876483639562\n",
      "Probability the door is closed is  0.00011235163604389704\n",
      "Iteration 9 done\n",
      "\n",
      "Action open\n",
      "Measurement closed\n",
      "Probability the door is open is  0.999955060355391\n",
      "Probability the door is closed is  4.49396446090398e-05\n",
      "Iteration 10 done\n",
      "\n",
      "Completed in 10 iterations\n"
     ]
    }
   ],
   "source": [
    "def main():\n",
    "    action = \"open\"\n",
    "    measurement = \"closed\"\n",
    "    iteration = 0\n",
    "\n",
    "    bel_x0_open = 0.5\n",
    "    bel_x0_closed = 0.5\n",
    "\n",
    "    min_difference = 0.0001\n",
    "\n",
    "    max_difference = 50\n",
    "\n",
    "    while min_difference <= max_difference:\n",
    "         print(\"Action\",action)\n",
    "         print(\"Measurement\",measurement)\n",
    "         old_bel_x0_open = bel_x0_open\n",
    "         old_bel_x0_closed = bel_x0_closed\n",
    "         bel_x0_open,bel_x0_closed = bayes_filter(action,measurement,bel_x0_open,bel_x0_closed)\n",
    "         print(\"Probability the door is open is \",bel_x0_open)\n",
    "         print(\"Probability the door is closed is \",bel_x0_closed)\n",
    "         max_difference = abs(bel_x0_open-old_bel_x0_open)\n",
    "         print(\"Iteration\",iteration+1,\"done\\n\")\n",
    "         iteration = iteration+1\n",
    "\n",
    "    print(\"Completed in\",iteration,\"iterations\")\n",
    "   \n",
    "if __name__ == \"__main__\":\n",
    "    main()"
   ]
  },
  {
   "cell_type": "markdown",
   "metadata": {},
   "source": [
    "**Our loop is terminated in 10 iterations where it reaches steady state belief (99.99%)**."
   ]
  }
 ],
 "metadata": {
  "kernelspec": {
   "display_name": "Python 3",
   "language": "python",
   "name": "python3"
  },
  "language_info": {
   "codemirror_mode": {
    "name": "ipython",
    "version": 3
   },
   "file_extension": ".py",
   "mimetype": "text/x-python",
   "name": "python",
   "nbconvert_exporter": "python",
   "pygments_lexer": "ipython3",
   "version": "3.8.13"
  }
 },
 "nbformat": 4,
 "nbformat_minor": 2
}
